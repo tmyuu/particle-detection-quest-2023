{
 "cells": [
  {
   "cell_type": "markdown",
   "id": "a3095fde",
   "metadata": {
    "editable": true,
    "slideshow": {
     "slide_type": ""
    },
    "tags": []
   },
   "source": [
    "# 評価方法\n",
    "\n",
    "分類されていないデータを認識し、どれだけ正しくカテゴリごとに分類できるかを算出した「平均精度」の高さを競い合います。\n",
    "\n",
    "今回、活用するデータはLSWMD_25519となります。\n",
    "LSWMD_25519のFailureType項目が分類されていない状態のデータに対し、正しいFailureTypeカテゴリを分類するプログラムを作成し、その平均精度を算出します。\n",
    "平均精度とは、カテゴリごとに正しく分類できる精度を平均した値です。カテゴリごとに算出した精度（Aが正しく分類された数/Aのデータ数）を足し、カテゴリ数で割ります。\n",
    "\n",
    "公平な評価を実施するために、以下の制限を設けています。\n",
    "1. 外部パッケージをインストールするためのセルとsolution関数の中身のみを編集すること\n",
    "2. 校舎のiMac上で最後のセルの実行時間が15分未満であること　（%%timeitの出力結果を確認してください）\n",
    "\n",
    "※気になる点がある場合、Discordで気軽にお問合せください。"
   ]
  },
  {
   "cell_type": "code",
   "execution_count": 13,
   "id": "c8b0f68e",
   "metadata": {
    "deletable": false,
    "editable": false,
    "slideshow": {
     "slide_type": ""
    },
    "tags": []
   },
   "outputs": [],
   "source": [
    "import numpy as np # https://numpy.org/ja/\n",
    "import pandas as pd # https://pandas.pydata.org/\n",
    "from sklearn.model_selection import train_test_split"
   ]
  },
  {
   "cell_type": "markdown",
   "id": "3ea86471-32fa-46c6-a005-ad6e1f7b7f72",
   "metadata": {
    "editable": true,
    "slideshow": {
     "slide_type": ""
    },
    "tags": []
   },
   "source": [
    "外部パッケージを使用する場合、以下の方法でインストールを実施してください。"
   ]
  },
  {
   "cell_type": "code",
   "execution_count": 14,
   "id": "6be8d1cd-7df7-4b10-aa1a-e24677b50d78",
   "metadata": {
    "editable": true,
    "slideshow": {
     "slide_type": ""
    },
    "tags": []
   },
   "outputs": [],
   "source": [
    "# 必要な外部パッケージは、以下の内容を編集しインストールしてください\n",
    "#!pip install numpy\n",
    "#!pip install pandas\n",
    "#!pip install scikit-learn\n",
    "#!pip install tensorflow\n",
    "#!pip install Pillow\n",
    "#!pip install lightgbm"
   ]
  },
  {
   "cell_type": "markdown",
   "id": "a113ea05-433a-4c82-9cb1-2c8f834a0364",
   "metadata": {
    "editable": true,
    "slideshow": {
     "slide_type": ""
    },
    "tags": []
   },
   "source": [
    "以下のsolution関数のみ編集してください。"
   ]
  },
  {
   "cell_type": "code",
   "execution_count": 15,
   "id": "cda6ad7e-8e26-4208-bdbd-3fa37e79c82c",
   "metadata": {
    "editable": true,
    "slideshow": {
     "slide_type": ""
    },
    "tags": []
   },
   "outputs": [],
   "source": [
    "def normalize_map(map):\n",
    "    from PIL import Image\n",
    "\n",
    "    # リサイズ後のサイズを指定\n",
    "    resize_shape = (32,32)\n",
    "    \n",
    "    # マップの次元を取得\n",
    "    len_y, len_x = map.shape\n",
    "\n",
    "    # マップの中心y座標とx座標を取得\n",
    "    y_add = len_y // 2 + len_y % 2\n",
    "    x_add = len_x // 2 + len_x % 2\n",
    "\n",
    "    # 0の値のインデックスを取得\n",
    "    y_indices, x_indices = np.where(map == 0)\n",
    "    # 他の位置に置換\n",
    "    map[y_indices, x_indices] = map[(y_indices + y_add) % len_y, (x_indices + x_add) % len_x]\n",
    "    # 0の値のインデックスを取得\n",
    "    y_indices, x_indices = np.where(map == 0)\n",
    "    # 0の値を置換\n",
    "    map[y_indices, x_indices] = 1\n",
    "\n",
    "    # リサイズし1を減算\n",
    "    map = Image.fromarray(map - 1.0)\n",
    "    # mapから1を減算してPILイメージを作成\n",
    "    resized_map = map.resize(resize_shape, Image.LANCZOS)\n",
    "\n",
    "    return np.asarray(resized_map)\n",
    "\n",
    "\n",
    "def preprocess_map(df, normalize_map):\n",
    "    # データの正規化\n",
    "    train_maps = np.array([normalize_map(x) for x in df['waferMap']])\n",
    "\n",
    "    # # 1. 画像を水平方向に反転\n",
    "    # flipped_horizontally = np.flip(train_maps, axis=2)\n",
    "    # train_maps = np.concatenate((train_maps, flipped_horizontally), axis=0)\n",
    "\n",
    "    # # 2. 画像を垂直方向に反転\n",
    "    # flipped_vertically = np.flip(train_maps, axis=1)\n",
    "    # train_maps = np.concatenate((train_maps, flipped_vertically), axis=0)\n",
    "\n",
    "    # 3. 画像を90度回転\n",
    "    rotated_90 = np.rot90(train_maps, k=1, axes=(1, 2))\n",
    "    train_maps = np.concatenate((train_maps, rotated_90), axis=0)\n",
    "\n",
    "    # 4. 画像を180度回転\n",
    "    rotated_180 = np.rot90(train_maps, k=2, axes=(1, 2))\n",
    "    train_maps = np.concatenate((train_maps, rotated_180), axis=0)\n",
    "\n",
    "    # 5. 画像を270度回転\n",
    "    rotated_270 = np.rot90(train_maps, k=3, axes=(1, 2))\n",
    "    train_maps = np.concatenate((train_maps, rotated_270), axis=0)\n",
    "\n",
    "    # データの形状を変更\n",
    "    train_maps = train_maps.reshape(train_maps.shape + (1,))\n",
    "\n",
    "    return train_maps\n",
    "\n",
    "\n",
    "def create_model(input_shape, num_classes):\n",
    "    import tensorflow as tf\n",
    "\n",
    "    model = tf.keras.models.Sequential([\n",
    "        # 畳み込みブロック1\n",
    "        tf.keras.layers.Conv2D(8, 3, activation='relu', padding='same', input_shape=(input_shape)),\n",
    "        tf.keras.layers.MaxPooling2D(pool_size=2, strides=2),\n",
    "\n",
    "        # 畳み込みブロック2\n",
    "        tf.keras.layers.Conv2D(16, 3, activation='relu', padding='same'),\n",
    "        tf.keras.layers.MaxPooling2D(pool_size=2, strides=2),\n",
    "\n",
    "        # 畳み込みブロック3\n",
    "        tf.keras.layers.Conv2D(128, 3, activation='relu', padding='same'),\n",
    "        tf.keras.layers.MaxPooling2D(pool_size=2, strides=2),\n",
    "\n",
    "        # ブロック4\n",
    "        tf.keras.layers.Flatten(),\n",
    "        tf.keras.layers.Dense(256, activation=tf.nn.relu),\n",
    "        tf.keras.layers.Dropout(0),\n",
    "        tf.keras.layers.Dense(256, activation=tf.nn.relu),\n",
    "        tf.keras.layers.Dropout(0),\n",
    "        tf.keras.layers.Dense(256, activation=tf.nn.relu),\n",
    "        tf.keras.layers.Dropout(0),\n",
    "\n",
    "        # 出力層\n",
    "        tf.keras.layers.Dense(num_classes),\n",
    "    ])\n",
    "\n",
    "    return model\n",
    "\n",
    "\n",
    "def solution(x_test_df, train_df):\n",
    "    import os\n",
    "    import tensorflow as tf\n",
    "\n",
    "    os.environ['TF_CPP_MIN_LOG_LEVEL']='2'\n",
    "\n",
    "    failure_types = list(train_df['failureType'].unique())\n",
    "\n",
    "    test_maps = preprocess_map(x_test_df, normalize_map)\n",
    "    train_maps = preprocess_map(train_df, normalize_map)\n",
    "    train_labels = np.array([failure_types.index(x) for x in train_df['failureType']] * 8)\n",
    "\n",
    "    # モデルの作成\n",
    "    model = create_model(train_maps[0].shape, len(failure_types))\n",
    "    model.compile(optimizer='adam', loss=tf.keras.losses.SparseCategoricalCrossentropy(from_logits=True), metrics=['accuracy'])\n",
    "    model.fit(train_maps, train_labels, epochs=7, validation_split=0.2)\n",
    "\n",
    "    # 各予測結果の平均を計算\n",
    "    test_logits = np.mean(model.predict(test_maps).reshape(-1, len(x_test_df['waferMap']), len(failure_types)), axis=0)\n",
    "    \n",
    "    predictions = tf.nn.softmax(test_logits).numpy()\n",
    "\n",
    "    answer = [failure_types[x.argmax()] for x in predictions]\n",
    "    return pd.DataFrame({'failureType': answer}, index=x_test_df.index)"
   ]
  },
  {
   "cell_type": "markdown",
   "id": "c70c20f4-f775-4d9d-90c7-a3b583584edd",
   "metadata": {
    "editable": true,
    "slideshow": {
     "slide_type": ""
    },
    "tags": []
   },
   "source": [
    "solution関数は以下のように活用され、平均精度を計算します。"
   ]
  },
  {
   "cell_type": "code",
   "execution_count": 16,
   "id": "04a31dda-7c8b-477e-9547-5c9db739f7f0",
   "metadata": {
    "deletable": false,
    "slideshow": {
     "slide_type": ""
    },
    "tags": []
   },
   "outputs": [
    {
     "name": "stdout",
     "output_type": "stream",
     "text": [
      "Epoch 1/7\n",
      "4594/4594 [==============================] - 38s 8ms/step - loss: 0.2685 - accuracy: 0.8990 - val_loss: 0.2037 - val_accuracy: 0.9217\n",
      "Epoch 2/7\n",
      "4594/4594 [==============================] - 40s 9ms/step - loss: 0.1550 - accuracy: 0.9419 - val_loss: 0.1506 - val_accuracy: 0.9414\n",
      "Epoch 3/7\n",
      "4594/4594 [==============================] - 39s 8ms/step - loss: 0.1173 - accuracy: 0.9557 - val_loss: 0.0993 - val_accuracy: 0.9618\n",
      "Epoch 4/7\n",
      "4594/4594 [==============================] - 36s 8ms/step - loss: 0.0898 - accuracy: 0.9660 - val_loss: 0.0931 - val_accuracy: 0.9647\n",
      "Epoch 5/7\n",
      "4594/4594 [==============================] - 37s 8ms/step - loss: 0.0681 - accuracy: 0.9748 - val_loss: 0.0746 - val_accuracy: 0.9716\n",
      "Epoch 6/7\n",
      "4594/4594 [==============================] - 36s 8ms/step - loss: 0.0544 - accuracy: 0.9801 - val_loss: 0.0558 - val_accuracy: 0.9790\n",
      "Epoch 7/7\n",
      "4594/4594 [==============================] - 36s 8ms/step - loss: 0.0431 - accuracy: 0.9849 - val_loss: 0.0689 - val_accuracy: 0.9740\n",
      "638/638 [==============================] - 1s 2ms/step\n"
     ]
    },
    {
     "data": {
      "image/png": "[encoded data removed]",
      "text/plain": [
       "<Figure size 1000x1000 with 2 Axes>"
      ]
     },
     "metadata": {},
     "output_type": "display_data"
    },
    {
     "name": "stdout",
     "output_type": "stream",
     "text": [
      "\n",
      "Class Accuracy and Most Common Errors:\n",
      "Loc: Accuracy: 91.64%\n",
      "    Most common error: Mistaken for Edge-Loc (4.46%)\n",
      "Edge-Loc: Accuracy: 89.79%\n",
      "    Most common error: Mistaken for Loc (6.94%)\n",
      "Center: Accuracy: 98.14%\n",
      "    Most common error: Mistaken for Loc (1.63%)\n",
      "Edge-Ring: Accuracy: 98.45%\n",
      "    Most common error: Mistaken for Edge-Loc (1.14%)\n",
      "Scratch: Accuracy: 77.31%\n",
      "    Most common error: Mistaken for Loc (18.49%)\n",
      "Random: Accuracy: 95.40%\n",
      "    Most common error: Mistaken for Loc (2.30%)\n",
      "Near-full: Accuracy: 80.00%\n",
      "    Most common error: Mistaken for Random (20.00%)\n",
      "Donut: Accuracy: 75.00%\n",
      "    Most common error: Mistaken for Loc (16.07%)\n",
      "平均精度：88.22%\n",
      "4min 25s ± 0 ns per loop (mean ± std. dev. of 1 run, 1 loop each)\n"
     ]
    }
   ],
   "source": [
    "%%timeit -r 1 -n 1\n",
    "\n",
    "def plot_confusion_matrix_and_accuracy(y_true, y_pred, classes):\n",
    "    import seaborn as sns\n",
    "    import matplotlib.pyplot as plt\n",
    "    from sklearn.metrics import confusion_matrix\n",
    "\n",
    "    # Confusion matrixの計算\n",
    "    cm = confusion_matrix(y_true, y_pred, labels=classes)\n",
    "\n",
    "    # ヒートマップとしてプロット\n",
    "    plt.figure(figsize=(10, 10))\n",
    "    sns.heatmap(cm, annot=True, fmt='d', cmap='Blues', xticklabels=classes, yticklabels=classes)\n",
    "    plt.title('Confusion Matrix')\n",
    "    plt.ylabel('Actual')\n",
    "    plt.xlabel('Predicted')\n",
    "    plt.show()\n",
    "\n",
    "    # 各クラスごとの正確さと最も間違えやすいクラスを表示\n",
    "    print(\"\\nClass Accuracy and Most Common Errors:\")\n",
    "    for i, class_name in enumerate(classes):\n",
    "        accuracy = cm[i, i] / cm[i, :].sum()\n",
    "        print(f\"{class_name}: Accuracy: {accuracy * 100:.2f}%\")\n",
    "        \n",
    "        # 最も間違えやすいクラスを特定\n",
    "        error_indices = cm[i, :].argsort()[-2:-1] if accuracy < 1 else []\n",
    "        for error_index in error_indices:\n",
    "            error_rate = cm[i, error_index] / cm[i, :].sum()\n",
    "            error_class = classes[error_index]\n",
    "            print(f\"    Most common error: Mistaken for {error_class} ({error_rate * 100:.2f}%)\")\n",
    "\n",
    "# データのインポート\n",
    "df=pd.read_pickle(\"../input/LSWMD_25519.pkl\")\n",
    "\n",
    "# テスト用と学習用のデータを作成（テストする際は、random_stateの値などを編集してみてください）\n",
    "train_df, test_df = train_test_split(df, stratify=df['failureType'], test_size=0.10, random_state=42)\n",
    "\n",
    "y_test_df = test_df[['failureType']]\n",
    "x_test_df = test_df.drop(columns=['failureType'])\n",
    "\n",
    "# solution関数を実行\n",
    "user_result_df = solution(x_test_df, train_df)\n",
    "plot_confusion_matrix_and_accuracy(y_test_df['failureType'], user_result_df['failureType'], df['failureType'].unique())\n",
    "\n",
    "average_accuracy = 0\n",
    "# ユーザーの提出物のフォーマット確認\n",
    "if type(y_test_df) == type(user_result_df) and y_test_df.shape == user_result_df.shape:\n",
    "    # 平均精度の計算\n",
    "    accuracies = {}\n",
    "    for failure_type in df['failureType'].unique():\n",
    "        y_test_df_by_failure_type = y_test_df[y_test_df['failureType'] == failure_type]\n",
    "        user_result_df_by_failure_type = user_result_df[y_test_df['failureType'] == failure_type]\n",
    "        matching_rows = (y_test_df_by_failure_type == user_result_df_by_failure_type).all(axis=1).sum()\n",
    "        accuracies[failure_type] = (matching_rows/(len(y_test_df_by_failure_type)))\n",
    "    \n",
    "    average_accuracy = sum(accuracies.values())/len(accuracies)\n",
    "print(f\"平均精度：{average_accuracy*100:.2f}%\")"
   ]
  },
  {
   "cell_type": "code",
   "execution_count": null,
   "id": "8a499abb-7dc0-4b60-935f-cbc76941e21d",
   "metadata": {},
   "outputs": [],
   "source": []
  }
 ],
 "metadata": {
  "kernelspec": {
   "display_name": "Python 3 (ipykernel)",
   "language": "python",
   "name": "python3"
  },
  "language_info": {
   "codemirror_mode": {
    "name": "ipython",
    "version": 3
   },
   "file_extension": ".py",
   "mimetype": "text/x-python",
   "name": "python",
   "nbconvert_exporter": "python",
   "pygments_lexer": "ipython3",
   "version": "3.11.6"
  }
 },
 "nbformat": 4,
 "nbformat_minor": 5
}
